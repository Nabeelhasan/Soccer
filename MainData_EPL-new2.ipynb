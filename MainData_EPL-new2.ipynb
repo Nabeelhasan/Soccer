{
 "cells": [
  {
   "cell_type": "code",
   "execution_count": 2,
   "metadata": {},
   "outputs": [],
   "source": [
    "import pandas as pd\n",
    "import numpy as np\n",
    "from bs4 import BeautifulSoup as soup\n",
    "from urllib.request import urlopen as uReq\n",
    "import urllib.request"
   ]
  },
  {
   "cell_type": "code",
   "execution_count": 3,
   "metadata": {},
   "outputs": [],
   "source": [
    "EPL_assists_url = \"https://www.foxsports.com/soccer/stats?competition=1&season=20180&category=STANDARD&pos=0&team=0&isOpp=0&sort=4&sortOrder=0&page=2\""
   ]
  },
  {
   "cell_type": "code",
   "execution_count": 4,
   "metadata": {},
   "outputs": [],
   "source": [
    "uClient = uReq(EPL_assists_url)\n",
    "EPL_assists_url_page_html = uClient.read()\n",
    "uClient.close()"
   ]
  },
  {
   "cell_type": "code",
   "execution_count": 5,
   "metadata": {},
   "outputs": [],
   "source": [
    "EPL_assists_page_soup = soup(EPL_assists_url_page_html,\"html.parser\")\n"
   ]
  },
  {
   "cell_type": "code",
   "execution_count": 6,
   "metadata": {},
   "outputs": [
    {
     "name": "stdout",
     "output_type": "stream",
     "text": [
      "Deulofeu, Gerard\n"
     ]
    }
   ],
   "source": [
    "assist_EPL_playerName = EPL_assists_page_soup.findAll(\"a\",{\"class\":\"wisbb_fullPlayer\"})\n",
    "print(assist_EPL_playerName[0].span.text)\n",
    "#a,b = assist_EPL_playerName[14].span.text.split(',')\n"
   ]
  },
  {
   "cell_type": "code",
   "execution_count": 7,
   "metadata": {
    "scrolled": true
   },
   "outputs": [
    {
     "name": "stdout",
     "output_type": "stream",
     "text": [
      "['Gerard Deulofeu', 'Abdoulaye Doucoure', 'Will Hughes', 'Ricardo Pereira', 'David Brooks', 'Felipe Anderson', 'Matt Doherty', 'Lucas Digne', 'Luciano Vietto', 'Steve Mounie', 'Joshua King', 'Junior Stanislas', 'Nacho Monreal', 'Cenk Tosun', 'Ben Chilwell', 'Riyad Mahrez', 'Fernandinho', 'Olexandr Zinchenko', 'Ander Herrera', 'Luke Shaw', 'Alexis Sanchez', 'Isaac Hayden', 'Nathan Redmond', 'Danny Rose', 'Kieran Trippier', 'Kyle Walker-Peters', 'Michail Antonio', 'Marko Arnautovic', 'Mark Noble', 'Andros Townsend', 'Wilfried Zaha', 'Matt Targett', 'Sean Morrison', 'Bernard', 'Youri Tielemans', 'Ashley Barnes', 'Jack Cork', 'Pascal Gross', 'Simon Francis', 'Mesut Ozil', 'David Luiz', 'Seamus Coleman', 'Theo Walcott', 'Marc Albrighton', 'Harvey Barnes', 'Kelechi Iheanacho', 'Gabriel Jesus', 'Ilkay Gundogan', 'Jesse Lingard', 'Anthony Martial']\n"
     ]
    }
   ],
   "source": [
    "assist_EPL_Name = []\n",
    "for i in range(50):\n",
    "    get_assist_playerName = assist_EPL_playerName[i].span.text.split(', ')\n",
    "    #print(T_get_assist_playerName)\n",
    "    #a,b = T_get_assist_playerName.split(',')\n",
    "    #if len(b) == 0\n",
    "    if len(get_assist_playerName) == 2:\n",
    "        a = get_assist_playerName[1]\n",
    "        b = get_assist_playerName[0]\n",
    "        c = a+' '+b\n",
    "    else:\n",
    "        b = get_assist_playerName[0]\n",
    "        a = ''\n",
    "        c = b\n",
    "    assist_EPL_Name.append(c)\n",
    "    \n",
    "print(assist_EPL_Name)\n",
    "    \n",
    "    "
   ]
  },
  {
   "cell_type": "code",
   "execution_count": 101,
   "metadata": {},
   "outputs": [
    {
     "name": "stdout",
     "output_type": "stream",
     "text": [
      "7\n"
     ]
    }
   ],
   "source": [
    "EPL_assistsPlusGoal_made = EPL_assists_page_soup.findAll('tr',{\"class\":\"wisbb_fvStand\"})\n",
    "print(EPL_assistsPlusGoal_made[1].contents[9].text)"
   ]
  },
  {
   "cell_type": "code",
   "execution_count": 103,
   "metadata": {},
   "outputs": [
    {
     "name": "stdout",
     "output_type": "stream",
     "text": [
      "['7', '5', '2', '2', '6', '8', '3', '3', '1', '2', '11', '1', '1', '2', '0', '6', '1', '0', '2', '1', '1', '1', '3', '0', '1', '0', '4', '7', '3', '4', '8', '0', '0', '1', '1', '9', '1', '2', '0', '4', '2', '1', '3', '2', '0', '1', '6', '5', '4', '10']\n"
     ]
    }
   ],
   "source": [
    "EPL_assistsPlusGoal_made_list = []\n",
    "for i in range(1,51):\n",
    "    EPL_assists = EPL_assistsPlusGoal_made[i].contents[9].text\n",
    "    EPL_assistsPlusGoal_made_list.append(EPL_assists)\n",
    "    \n",
    "print(EPL_assistsPlusGoal_made_list)"
   ]
  },
  {
   "cell_type": "code",
   "execution_count": 8,
   "metadata": {
    "scrolled": false
   },
   "outputs": [
    {
     "name": "stdout",
     "output_type": "stream",
     "text": [
      "50\n"
     ]
    }
   ],
   "source": [
    "EPL_assists_made = EPL_assists_page_soup.findAll('td',{\"class\":\"wisbb_priorityColumn wisbb_selected\"})\n",
    "print(len(EPL_assists_made))"
   ]
  },
  {
   "cell_type": "code",
   "execution_count": 9,
   "metadata": {},
   "outputs": [
    {
     "name": "stdout",
     "output_type": "stream",
     "text": [
      "['4', '4', '4', '4', '4', '4', '4', '4', '4', '3', '3', '3', '3', '3', '3', '3', '3', '3', '3', '3', '3', '3', '3', '3', '3', '3', '3', '3', '3', '3', '3', '3', '3', '3', '3', '2', '2', '2', '2', '2', '2', '2', '2', '2', '2', '2', '2', '2', '2', '2']\n"
     ]
    }
   ],
   "source": [
    "EPL_assists_made_list = []\n",
    "for i in range(50):\n",
    "    EPL_assists = EPL_assists_made[i].text\n",
    "    EPL_assists_made_list.append(EPL_assists)\n",
    "    \n",
    "print(EPL_assists_made_list)"
   ]
  },
  {
   "cell_type": "code",
   "execution_count": 10,
   "metadata": {
    "scrolled": true
   },
   "outputs": [
    {
     "name": "stdout",
     "output_type": "stream",
     "text": [
      " FUL\n",
      "\n",
      " WAT\n",
      "\n",
      "asd\n"
     ]
    }
   ],
   "source": [
    "EPL_assist_club = EPL_assists_page_soup.findAll('span',{\"class\":\"wisbb_tableAbbrevLink\"})\n",
    "print(EPL_assist_club[8].text)\n",
    "print(EPL_assist_club[1].text)\n",
    "print(\"asd\")"
   ]
  },
  {
   "cell_type": "code",
   "execution_count": 11,
   "metadata": {},
   "outputs": [
    {
     "name": "stdout",
     "output_type": "stream",
     "text": [
      "['WAT', 'WAT', 'WAT', 'LEI', 'BOU', 'WHU', 'WLV', 'EVE', 'FUL', 'HUD', 'BOU', 'BOU', 'ARS', 'EVE', 'LEI', 'MCI', 'MCI', 'MCI', 'MUN', 'MUN', 'MUN', 'NEW', 'SOU', 'TOT', 'TOT', 'TOT', 'WHU', 'WHU', 'WHU', 'CRY', 'CRY', 'SOU', 'CC\\n', 'EVE', 'LEI', 'BUR', 'BUR', 'BHA', 'BOU', 'ARS', 'CHE', 'EVE', 'EVE', 'LEI', 'LEI', 'LEI', 'MCI', 'MCI', 'MUN', 'MUN']\n"
     ]
    }
   ],
   "source": [
    "EPL_assist_club_list =[]\n",
    "for i in range(50):\n",
    "    get_club_name = EPL_assist_club[i].text\n",
    "    #print( get_club_name)\n",
    "    get_club_name = get_club_name[1:4]\n",
    "    EPL_assist_club_list.append(get_club_name)\n",
    "    \n",
    "    #EPL_assist_club_list.append(get_club_prefix)\n",
    "    \n",
    "print(EPL_assist_club_list)"
   ]
  },
  {
   "cell_type": "code",
   "execution_count": 12,
   "metadata": {},
   "outputs": [
    {
     "name": "stdout",
     "output_type": "stream",
     "text": [
      "['GeraWAT', 'AbdoWAT', 'WillWAT', 'RicaLEI', 'DaviBOU', 'FeliWHU', 'MattWLV', 'LucaEVE', 'LuciFUL', 'StevHUD', 'JoshBOU', 'JuniBOU', 'NachARS', 'CenkEVE', 'Ben LEI', 'RiyaMCI', 'FernMCI', 'OlexMCI', 'AndeMUN', 'LukeMUN', 'AlexMUN', 'IsaaNEW', 'NathSOU', 'DannTOT', 'KierTOT', 'KyleTOT', 'MichWHU', 'MarkWHU', 'MarkWHU', 'AndrCRY', 'WilfCRY', 'MattSOU', 'SeanCC\\n', 'BernEVE', 'YourLEI', 'AshlBUR', 'JackBUR', 'PascBHA', 'SimoBOU', 'MesuARS', 'DaviCHE', 'SeamEVE', 'TheoEVE', 'MarcLEI', 'HarvLEI', 'KeleLEI', 'GabrMCI', 'IlkaMCI', 'JessMUN', 'AnthMUN']\n"
     ]
    }
   ],
   "source": [
    "PlayerID_EPL_assist_list = []\n",
    "for i in range(50):\n",
    "    make_id = assist_EPL_Name[i][0:4] + EPL_assist_club_list[i]\n",
    "    PlayerID_EPL_assist_list.append(make_id)\n",
    "    \n",
    "print(PlayerID_EPL_assist_list)"
   ]
  },
  {
   "cell_type": "code",
   "execution_count": 13,
   "metadata": {},
   "outputs": [
    {
     "data": {
      "text/html": [
       "<div>\n",
       "<style scoped>\n",
       "    .dataframe tbody tr th:only-of-type {\n",
       "        vertical-align: middle;\n",
       "    }\n",
       "\n",
       "    .dataframe tbody tr th {\n",
       "        vertical-align: top;\n",
       "    }\n",
       "\n",
       "    .dataframe thead th {\n",
       "        text-align: right;\n",
       "    }\n",
       "</style>\n",
       "<table border=\"1\" class=\"dataframe\">\n",
       "  <thead>\n",
       "    <tr style=\"text-align: right;\">\n",
       "      <th></th>\n",
       "      <th>Player Name</th>\n",
       "      <th>Club</th>\n",
       "      <th>Assists</th>\n",
       "      <th>PlayerID</th>\n",
       "    </tr>\n",
       "  </thead>\n",
       "  <tbody>\n",
       "    <tr>\n",
       "      <th>0</th>\n",
       "      <td>Gerard Deulofeu</td>\n",
       "      <td>WAT</td>\n",
       "      <td>4</td>\n",
       "      <td>GeraWAT</td>\n",
       "    </tr>\n",
       "    <tr>\n",
       "      <th>1</th>\n",
       "      <td>Abdoulaye Doucoure</td>\n",
       "      <td>WAT</td>\n",
       "      <td>4</td>\n",
       "      <td>AbdoWAT</td>\n",
       "    </tr>\n",
       "    <tr>\n",
       "      <th>2</th>\n",
       "      <td>Will Hughes</td>\n",
       "      <td>WAT</td>\n",
       "      <td>4</td>\n",
       "      <td>WillWAT</td>\n",
       "    </tr>\n",
       "    <tr>\n",
       "      <th>3</th>\n",
       "      <td>Ricardo Pereira</td>\n",
       "      <td>LEI</td>\n",
       "      <td>4</td>\n",
       "      <td>RicaLEI</td>\n",
       "    </tr>\n",
       "    <tr>\n",
       "      <th>4</th>\n",
       "      <td>David Brooks</td>\n",
       "      <td>BOU</td>\n",
       "      <td>4</td>\n",
       "      <td>DaviBOU</td>\n",
       "    </tr>\n",
       "  </tbody>\n",
       "</table>\n",
       "</div>"
      ],
      "text/plain": [
       "          Player Name Club Assists PlayerID\n",
       "0     Gerard Deulofeu  WAT       4  GeraWAT\n",
       "1  Abdoulaye Doucoure  WAT       4  AbdoWAT\n",
       "2         Will Hughes  WAT       4  WillWAT\n",
       "3     Ricardo Pereira  LEI       4  RicaLEI\n",
       "4        David Brooks  BOU       4  DaviBOU"
      ]
     },
     "execution_count": 13,
     "metadata": {},
     "output_type": "execute_result"
    }
   ],
   "source": [
    "EPL_assist_data = list(zip(assist_EPL_Name,EPL_assist_club_list,EPL_assists_made_list,PlayerID_EPL_assist_list))\n",
    "EPL_assist_df = pd.DataFrame(data = EPL_assist_data,columns = ['Player Name','Club','Assists','PlayerID'])\n",
    "EPL_assist_df.head()"
   ]
  },
  {
   "cell_type": "code",
   "execution_count": 105,
   "metadata": {},
   "outputs": [],
   "source": [
    "EPL_assist_df['Goals'] = EPL_assistsPlusGoal_made_list"
   ]
  },
  {
   "cell_type": "code",
   "execution_count": 106,
   "metadata": {},
   "outputs": [
    {
     "data": {
      "text/html": [
       "<div>\n",
       "<style scoped>\n",
       "    .dataframe tbody tr th:only-of-type {\n",
       "        vertical-align: middle;\n",
       "    }\n",
       "\n",
       "    .dataframe tbody tr th {\n",
       "        vertical-align: top;\n",
       "    }\n",
       "\n",
       "    .dataframe thead th {\n",
       "        text-align: right;\n",
       "    }\n",
       "</style>\n",
       "<table border=\"1\" class=\"dataframe\">\n",
       "  <thead>\n",
       "    <tr style=\"text-align: right;\">\n",
       "      <th></th>\n",
       "      <th>Player Name</th>\n",
       "      <th>Club</th>\n",
       "      <th>Assists</th>\n",
       "      <th>PlayerID</th>\n",
       "      <th>Minutes Played</th>\n",
       "      <th>SOG</th>\n",
       "      <th>Shots</th>\n",
       "      <th>Goals</th>\n",
       "    </tr>\n",
       "  </thead>\n",
       "  <tbody>\n",
       "    <tr>\n",
       "      <th>0</th>\n",
       "      <td>Gerard Deulofeu</td>\n",
       "      <td>WAT</td>\n",
       "      <td>4</td>\n",
       "      <td>GeraWAT</td>\n",
       "      <td>1590</td>\n",
       "      <td>15</td>\n",
       "      <td>43</td>\n",
       "      <td>7</td>\n",
       "    </tr>\n",
       "    <tr>\n",
       "      <th>1</th>\n",
       "      <td>Abdoulaye Doucoure</td>\n",
       "      <td>WAT</td>\n",
       "      <td>4</td>\n",
       "      <td>AbdoWAT</td>\n",
       "      <td>1712</td>\n",
       "      <td>15</td>\n",
       "      <td>42</td>\n",
       "      <td>5</td>\n",
       "    </tr>\n",
       "    <tr>\n",
       "      <th>2</th>\n",
       "      <td>Will Hughes</td>\n",
       "      <td>WAT</td>\n",
       "      <td>4</td>\n",
       "      <td>WillWAT</td>\n",
       "      <td>1213</td>\n",
       "      <td>6</td>\n",
       "      <td>18</td>\n",
       "      <td>2</td>\n",
       "    </tr>\n",
       "    <tr>\n",
       "      <th>3</th>\n",
       "      <td>Ricardo Pereira</td>\n",
       "      <td>LEI</td>\n",
       "      <td>4</td>\n",
       "      <td>RicaLEI</td>\n",
       "      <td>1890</td>\n",
       "      <td>10</td>\n",
       "      <td>25</td>\n",
       "      <td>2</td>\n",
       "    </tr>\n",
       "    <tr>\n",
       "      <th>4</th>\n",
       "      <td>David Brooks</td>\n",
       "      <td>BOU</td>\n",
       "      <td>4</td>\n",
       "      <td>DaviBOU</td>\n",
       "      <td>1365</td>\n",
       "      <td>20</td>\n",
       "      <td>38</td>\n",
       "      <td>6</td>\n",
       "    </tr>\n",
       "    <tr>\n",
       "      <th>5</th>\n",
       "      <td>Felipe Anderson</td>\n",
       "      <td>WHU</td>\n",
       "      <td>4</td>\n",
       "      <td>FeliWHU</td>\n",
       "      <td>1870</td>\n",
       "      <td>19</td>\n",
       "      <td>45</td>\n",
       "      <td>8</td>\n",
       "    </tr>\n",
       "    <tr>\n",
       "      <th>6</th>\n",
       "      <td>Matt Doherty</td>\n",
       "      <td>WLV</td>\n",
       "      <td>4</td>\n",
       "      <td>MattWLV</td>\n",
       "      <td>1881</td>\n",
       "      <td>16</td>\n",
       "      <td>35</td>\n",
       "      <td>3</td>\n",
       "    </tr>\n",
       "    <tr>\n",
       "      <th>7</th>\n",
       "      <td>Lucas Digne</td>\n",
       "      <td>EVE</td>\n",
       "      <td>4</td>\n",
       "      <td>LucaEVE</td>\n",
       "      <td>1900</td>\n",
       "      <td>8</td>\n",
       "      <td>27</td>\n",
       "      <td>3</td>\n",
       "    </tr>\n",
       "    <tr>\n",
       "      <th>8</th>\n",
       "      <td>Luciano Vietto</td>\n",
       "      <td>FUL</td>\n",
       "      <td>4</td>\n",
       "      <td>LuciFUL</td>\n",
       "      <td>488</td>\n",
       "      <td>7</td>\n",
       "      <td>22</td>\n",
       "      <td>1</td>\n",
       "    </tr>\n",
       "    <tr>\n",
       "      <th>9</th>\n",
       "      <td>Steve Mounie</td>\n",
       "      <td>HUD</td>\n",
       "      <td>3</td>\n",
       "      <td>StevHUD</td>\n",
       "      <td>1102</td>\n",
       "      <td>20</td>\n",
       "      <td>53</td>\n",
       "      <td>2</td>\n",
       "    </tr>\n",
       "    <tr>\n",
       "      <th>10</th>\n",
       "      <td>Joshua King</td>\n",
       "      <td>BOU</td>\n",
       "      <td>3</td>\n",
       "      <td>JoshBOU</td>\n",
       "      <td>1693</td>\n",
       "      <td>22</td>\n",
       "      <td>55</td>\n",
       "      <td>11</td>\n",
       "    </tr>\n",
       "    <tr>\n",
       "      <th>11</th>\n",
       "      <td>Junior Stanislas</td>\n",
       "      <td>BOU</td>\n",
       "      <td>3</td>\n",
       "      <td>JuniBOU</td>\n",
       "      <td>895</td>\n",
       "      <td>8</td>\n",
       "      <td>29</td>\n",
       "      <td>1</td>\n",
       "    </tr>\n",
       "    <tr>\n",
       "      <th>12</th>\n",
       "      <td>Nacho Monreal</td>\n",
       "      <td>ARS</td>\n",
       "      <td>3</td>\n",
       "      <td>NachARS</td>\n",
       "      <td>781</td>\n",
       "      <td>4</td>\n",
       "      <td>5</td>\n",
       "      <td>1</td>\n",
       "    </tr>\n",
       "    <tr>\n",
       "      <th>13</th>\n",
       "      <td>Cenk Tosun</td>\n",
       "      <td>EVE</td>\n",
       "      <td>3</td>\n",
       "      <td>CenkEVE</td>\n",
       "      <td>443</td>\n",
       "      <td>14</td>\n",
       "      <td>31</td>\n",
       "      <td>2</td>\n",
       "    </tr>\n",
       "    <tr>\n",
       "      <th>14</th>\n",
       "      <td>Ben Chilwell</td>\n",
       "      <td>LEI</td>\n",
       "      <td>3</td>\n",
       "      <td>Ben LEI</td>\n",
       "      <td>1890</td>\n",
       "      <td>8</td>\n",
       "      <td>18</td>\n",
       "      <td>0</td>\n",
       "    </tr>\n",
       "    <tr>\n",
       "      <th>15</th>\n",
       "      <td>Riyad Mahrez</td>\n",
       "      <td>MCI</td>\n",
       "      <td>3</td>\n",
       "      <td>RiyaMCI</td>\n",
       "      <td>747</td>\n",
       "      <td>19</td>\n",
       "      <td>43</td>\n",
       "      <td>6</td>\n",
       "    </tr>\n",
       "    <tr>\n",
       "      <th>16</th>\n",
       "      <td>Fernandinho</td>\n",
       "      <td>MCI</td>\n",
       "      <td>3</td>\n",
       "      <td>FernMCI</td>\n",
       "      <td>1394</td>\n",
       "      <td>7</td>\n",
       "      <td>27</td>\n",
       "      <td>1</td>\n",
       "    </tr>\n",
       "    <tr>\n",
       "      <th>17</th>\n",
       "      <td>Olexandr Zinchenko</td>\n",
       "      <td>MCI</td>\n",
       "      <td>3</td>\n",
       "      <td>OlexMCI</td>\n",
       "      <td>594</td>\n",
       "      <td>1</td>\n",
       "      <td>4</td>\n",
       "      <td>0</td>\n",
       "    </tr>\n",
       "    <tr>\n",
       "      <th>18</th>\n",
       "      <td>Ander Herrera</td>\n",
       "      <td>MUN</td>\n",
       "      <td>3</td>\n",
       "      <td>AndeMUN</td>\n",
       "      <td>1193</td>\n",
       "      <td>8</td>\n",
       "      <td>18</td>\n",
       "      <td>2</td>\n",
       "    </tr>\n",
       "    <tr>\n",
       "      <th>19</th>\n",
       "      <td>Luke Shaw</td>\n",
       "      <td>MUN</td>\n",
       "      <td>3</td>\n",
       "      <td>LukeMUN</td>\n",
       "      <td>1602</td>\n",
       "      <td>8</td>\n",
       "      <td>22</td>\n",
       "      <td>1</td>\n",
       "    </tr>\n",
       "    <tr>\n",
       "      <th>20</th>\n",
       "      <td>Alexis Sanchez</td>\n",
       "      <td>MUN</td>\n",
       "      <td>3</td>\n",
       "      <td>AlexMUN</td>\n",
       "      <td>430</td>\n",
       "      <td>9</td>\n",
       "      <td>19</td>\n",
       "      <td>1</td>\n",
       "    </tr>\n",
       "    <tr>\n",
       "      <th>21</th>\n",
       "      <td>Isaac Hayden</td>\n",
       "      <td>NEW</td>\n",
       "      <td>3</td>\n",
       "      <td>IsaaNEW</td>\n",
       "      <td>1245</td>\n",
       "      <td>4</td>\n",
       "      <td>16</td>\n",
       "      <td>1</td>\n",
       "    </tr>\n",
       "    <tr>\n",
       "      <th>22</th>\n",
       "      <td>Nathan Redmond</td>\n",
       "      <td>SOU</td>\n",
       "      <td>3</td>\n",
       "      <td>NathSOU</td>\n",
       "      <td>1882</td>\n",
       "      <td>14</td>\n",
       "      <td>54</td>\n",
       "      <td>3</td>\n",
       "    </tr>\n",
       "    <tr>\n",
       "      <th>23</th>\n",
       "      <td>Danny Rose</td>\n",
       "      <td>TOT</td>\n",
       "      <td>3</td>\n",
       "      <td>DannTOT</td>\n",
       "      <td>1005</td>\n",
       "      <td>1</td>\n",
       "      <td>12</td>\n",
       "      <td>0</td>\n",
       "    </tr>\n",
       "    <tr>\n",
       "      <th>24</th>\n",
       "      <td>Kieran Trippier</td>\n",
       "      <td>TOT</td>\n",
       "      <td>3</td>\n",
       "      <td>KierTOT</td>\n",
       "      <td>1302</td>\n",
       "      <td>3</td>\n",
       "      <td>7</td>\n",
       "      <td>1</td>\n",
       "    </tr>\n",
       "    <tr>\n",
       "      <th>25</th>\n",
       "      <td>Kyle Walker-Peters</td>\n",
       "      <td>TOT</td>\n",
       "      <td>3</td>\n",
       "      <td>KyleTOT</td>\n",
       "      <td>194</td>\n",
       "      <td>0</td>\n",
       "      <td>0</td>\n",
       "      <td>0</td>\n",
       "    </tr>\n",
       "    <tr>\n",
       "      <th>26</th>\n",
       "      <td>Michail Antonio</td>\n",
       "      <td>WHU</td>\n",
       "      <td>3</td>\n",
       "      <td>MichWHU</td>\n",
       "      <td>1348</td>\n",
       "      <td>15</td>\n",
       "      <td>47</td>\n",
       "      <td>4</td>\n",
       "    </tr>\n",
       "    <tr>\n",
       "      <th>27</th>\n",
       "      <td>Marko Arnautovic</td>\n",
       "      <td>WHU</td>\n",
       "      <td>3</td>\n",
       "      <td>MarkWHU</td>\n",
       "      <td>940</td>\n",
       "      <td>25</td>\n",
       "      <td>47</td>\n",
       "      <td>7</td>\n",
       "    </tr>\n",
       "    <tr>\n",
       "      <th>28</th>\n",
       "      <td>Mark Noble</td>\n",
       "      <td>WHU</td>\n",
       "      <td>3</td>\n",
       "      <td>MarkWHU</td>\n",
       "      <td>1242</td>\n",
       "      <td>6</td>\n",
       "      <td>13</td>\n",
       "      <td>3</td>\n",
       "    </tr>\n",
       "    <tr>\n",
       "      <th>29</th>\n",
       "      <td>Andros Townsend</td>\n",
       "      <td>CRY</td>\n",
       "      <td>3</td>\n",
       "      <td>AndrCRY</td>\n",
       "      <td>1865</td>\n",
       "      <td>14</td>\n",
       "      <td>54</td>\n",
       "      <td>4</td>\n",
       "    </tr>\n",
       "    <tr>\n",
       "      <th>30</th>\n",
       "      <td>Wilfried Zaha</td>\n",
       "      <td>CRY</td>\n",
       "      <td>3</td>\n",
       "      <td>WilfCRY</td>\n",
       "      <td>1693</td>\n",
       "      <td>22</td>\n",
       "      <td>63</td>\n",
       "      <td>8</td>\n",
       "    </tr>\n",
       "    <tr>\n",
       "      <th>31</th>\n",
       "      <td>Matt Targett</td>\n",
       "      <td>SOU</td>\n",
       "      <td>3</td>\n",
       "      <td>MattSOU</td>\n",
       "      <td>1025</td>\n",
       "      <td>2</td>\n",
       "      <td>9</td>\n",
       "      <td>0</td>\n",
       "    </tr>\n",
       "    <tr>\n",
       "      <th>32</th>\n",
       "      <td>Sean Morrison</td>\n",
       "      <td>CC\\n</td>\n",
       "      <td>3</td>\n",
       "      <td>SeanCC\\n</td>\n",
       "      <td>1600</td>\n",
       "      <td>6</td>\n",
       "      <td>24</td>\n",
       "      <td>0</td>\n",
       "    </tr>\n",
       "    <tr>\n",
       "      <th>33</th>\n",
       "      <td>Bernard</td>\n",
       "      <td>EVE</td>\n",
       "      <td>3</td>\n",
       "      <td>BernEVE</td>\n",
       "      <td>1416</td>\n",
       "      <td>1</td>\n",
       "      <td>15</td>\n",
       "      <td>1</td>\n",
       "    </tr>\n",
       "    <tr>\n",
       "      <th>34</th>\n",
       "      <td>Youri Tielemans</td>\n",
       "      <td>LEI</td>\n",
       "      <td>3</td>\n",
       "      <td>YourLEI</td>\n",
       "      <td>567</td>\n",
       "      <td>6</td>\n",
       "      <td>18</td>\n",
       "      <td>1</td>\n",
       "    </tr>\n",
       "    <tr>\n",
       "      <th>35</th>\n",
       "      <td>Ashley Barnes</td>\n",
       "      <td>BUR</td>\n",
       "      <td>2</td>\n",
       "      <td>AshlBUR</td>\n",
       "      <td>1639</td>\n",
       "      <td>24</td>\n",
       "      <td>53</td>\n",
       "      <td>9</td>\n",
       "    </tr>\n",
       "    <tr>\n",
       "      <th>36</th>\n",
       "      <td>Jack Cork</td>\n",
       "      <td>BUR</td>\n",
       "      <td>2</td>\n",
       "      <td>JackBUR</td>\n",
       "      <td>1963</td>\n",
       "      <td>2</td>\n",
       "      <td>18</td>\n",
       "      <td>1</td>\n",
       "    </tr>\n",
       "    <tr>\n",
       "      <th>37</th>\n",
       "      <td>Pascal Gross</td>\n",
       "      <td>BHA</td>\n",
       "      <td>2</td>\n",
       "      <td>PascBHA</td>\n",
       "      <td>1153</td>\n",
       "      <td>8</td>\n",
       "      <td>19</td>\n",
       "      <td>2</td>\n",
       "    </tr>\n",
       "    <tr>\n",
       "      <th>38</th>\n",
       "      <td>Simon Francis</td>\n",
       "      <td>BOU</td>\n",
       "      <td>2</td>\n",
       "      <td>SimoBOU</td>\n",
       "      <td>765</td>\n",
       "      <td>1</td>\n",
       "      <td>3</td>\n",
       "      <td>0</td>\n",
       "    </tr>\n",
       "    <tr>\n",
       "      <th>39</th>\n",
       "      <td>Mesut Ozil</td>\n",
       "      <td>ARS</td>\n",
       "      <td>2</td>\n",
       "      <td>MesuARS</td>\n",
       "      <td>760</td>\n",
       "      <td>5</td>\n",
       "      <td>8</td>\n",
       "      <td>4</td>\n",
       "    </tr>\n",
       "    <tr>\n",
       "      <th>40</th>\n",
       "      <td>David Luiz</td>\n",
       "      <td>CHE</td>\n",
       "      <td>2</td>\n",
       "      <td>DaviCHE</td>\n",
       "      <td>1800</td>\n",
       "      <td>6</td>\n",
       "      <td>27</td>\n",
       "      <td>2</td>\n",
       "    </tr>\n",
       "    <tr>\n",
       "      <th>41</th>\n",
       "      <td>Seamus Coleman</td>\n",
       "      <td>EVE</td>\n",
       "      <td>2</td>\n",
       "      <td>SeamEVE</td>\n",
       "      <td>1663</td>\n",
       "      <td>4</td>\n",
       "      <td>10</td>\n",
       "      <td>1</td>\n",
       "    </tr>\n",
       "    <tr>\n",
       "      <th>42</th>\n",
       "      <td>Theo Walcott</td>\n",
       "      <td>EVE</td>\n",
       "      <td>2</td>\n",
       "      <td>TheoEVE</td>\n",
       "      <td>1198</td>\n",
       "      <td>16</td>\n",
       "      <td>35</td>\n",
       "      <td>3</td>\n",
       "    </tr>\n",
       "    <tr>\n",
       "      <th>43</th>\n",
       "      <td>Marc Albrighton</td>\n",
       "      <td>LEI</td>\n",
       "      <td>2</td>\n",
       "      <td>MarcLEI</td>\n",
       "      <td>1051</td>\n",
       "      <td>6</td>\n",
       "      <td>16</td>\n",
       "      <td>2</td>\n",
       "    </tr>\n",
       "    <tr>\n",
       "      <th>44</th>\n",
       "      <td>Harvey Barnes</td>\n",
       "      <td>LEI</td>\n",
       "      <td>2</td>\n",
       "      <td>HarvLEI</td>\n",
       "      <td>776</td>\n",
       "      <td>7</td>\n",
       "      <td>33</td>\n",
       "      <td>0</td>\n",
       "    </tr>\n",
       "    <tr>\n",
       "      <th>45</th>\n",
       "      <td>Kelechi Iheanacho</td>\n",
       "      <td>LEI</td>\n",
       "      <td>2</td>\n",
       "      <td>KeleLEI</td>\n",
       "      <td>374</td>\n",
       "      <td>5</td>\n",
       "      <td>14</td>\n",
       "      <td>1</td>\n",
       "    </tr>\n",
       "    <tr>\n",
       "      <th>46</th>\n",
       "      <td>Gabriel Jesus</td>\n",
       "      <td>MCI</td>\n",
       "      <td>2</td>\n",
       "      <td>GabrMCI</td>\n",
       "      <td>589</td>\n",
       "      <td>21</td>\n",
       "      <td>36</td>\n",
       "      <td>6</td>\n",
       "    </tr>\n",
       "    <tr>\n",
       "      <th>47</th>\n",
       "      <td>Ilkay Gundogan</td>\n",
       "      <td>MCI</td>\n",
       "      <td>2</td>\n",
       "      <td>IlkaMCI</td>\n",
       "      <td>1242</td>\n",
       "      <td>10</td>\n",
       "      <td>33</td>\n",
       "      <td>5</td>\n",
       "    </tr>\n",
       "    <tr>\n",
       "      <th>48</th>\n",
       "      <td>Jesse Lingard</td>\n",
       "      <td>MUN</td>\n",
       "      <td>2</td>\n",
       "      <td>JessMUN</td>\n",
       "      <td>1050</td>\n",
       "      <td>14</td>\n",
       "      <td>29</td>\n",
       "      <td>4</td>\n",
       "    </tr>\n",
       "    <tr>\n",
       "      <th>49</th>\n",
       "      <td>Anthony Martial</td>\n",
       "      <td>MUN</td>\n",
       "      <td>2</td>\n",
       "      <td>AnthMUN</td>\n",
       "      <td>1040</td>\n",
       "      <td>20</td>\n",
       "      <td>33</td>\n",
       "      <td>10</td>\n",
       "    </tr>\n",
       "  </tbody>\n",
       "</table>\n",
       "</div>"
      ],
      "text/plain": [
       "           Player Name  Club Assists  PlayerID Minutes Played SOG Shots Goals\n",
       "0      Gerard Deulofeu   WAT       4   GeraWAT           1590  15    43     7\n",
       "1   Abdoulaye Doucoure   WAT       4   AbdoWAT           1712  15    42     5\n",
       "2          Will Hughes   WAT       4   WillWAT           1213   6    18     2\n",
       "3      Ricardo Pereira   LEI       4   RicaLEI           1890  10    25     2\n",
       "4         David Brooks   BOU       4   DaviBOU           1365  20    38     6\n",
       "5      Felipe Anderson   WHU       4   FeliWHU           1870  19    45     8\n",
       "6         Matt Doherty   WLV       4   MattWLV           1881  16    35     3\n",
       "7          Lucas Digne   EVE       4   LucaEVE           1900   8    27     3\n",
       "8       Luciano Vietto   FUL       4   LuciFUL            488   7    22     1\n",
       "9         Steve Mounie   HUD       3   StevHUD           1102  20    53     2\n",
       "10         Joshua King   BOU       3   JoshBOU           1693  22    55    11\n",
       "11    Junior Stanislas   BOU       3   JuniBOU            895   8    29     1\n",
       "12       Nacho Monreal   ARS       3   NachARS            781   4     5     1\n",
       "13          Cenk Tosun   EVE       3   CenkEVE            443  14    31     2\n",
       "14        Ben Chilwell   LEI       3   Ben LEI           1890   8    18     0\n",
       "15        Riyad Mahrez   MCI       3   RiyaMCI            747  19    43     6\n",
       "16         Fernandinho   MCI       3   FernMCI           1394   7    27     1\n",
       "17  Olexandr Zinchenko   MCI       3   OlexMCI            594   1     4     0\n",
       "18       Ander Herrera   MUN       3   AndeMUN           1193   8    18     2\n",
       "19           Luke Shaw   MUN       3   LukeMUN           1602   8    22     1\n",
       "20      Alexis Sanchez   MUN       3   AlexMUN            430   9    19     1\n",
       "21        Isaac Hayden   NEW       3   IsaaNEW           1245   4    16     1\n",
       "22      Nathan Redmond   SOU       3   NathSOU           1882  14    54     3\n",
       "23          Danny Rose   TOT       3   DannTOT           1005   1    12     0\n",
       "24     Kieran Trippier   TOT       3   KierTOT           1302   3     7     1\n",
       "25  Kyle Walker-Peters   TOT       3   KyleTOT            194   0     0     0\n",
       "26     Michail Antonio   WHU       3   MichWHU           1348  15    47     4\n",
       "27    Marko Arnautovic   WHU       3   MarkWHU            940  25    47     7\n",
       "28          Mark Noble   WHU       3   MarkWHU           1242   6    13     3\n",
       "29     Andros Townsend   CRY       3   AndrCRY           1865  14    54     4\n",
       "30       Wilfried Zaha   CRY       3   WilfCRY           1693  22    63     8\n",
       "31        Matt Targett   SOU       3   MattSOU           1025   2     9     0\n",
       "32       Sean Morrison  CC\\n       3  SeanCC\\n           1600   6    24     0\n",
       "33             Bernard   EVE       3   BernEVE           1416   1    15     1\n",
       "34     Youri Tielemans   LEI       3   YourLEI            567   6    18     1\n",
       "35       Ashley Barnes   BUR       2   AshlBUR           1639  24    53     9\n",
       "36           Jack Cork   BUR       2   JackBUR           1963   2    18     1\n",
       "37        Pascal Gross   BHA       2   PascBHA           1153   8    19     2\n",
       "38       Simon Francis   BOU       2   SimoBOU            765   1     3     0\n",
       "39          Mesut Ozil   ARS       2   MesuARS            760   5     8     4\n",
       "40          David Luiz   CHE       2   DaviCHE           1800   6    27     2\n",
       "41      Seamus Coleman   EVE       2   SeamEVE           1663   4    10     1\n",
       "42        Theo Walcott   EVE       2   TheoEVE           1198  16    35     3\n",
       "43     Marc Albrighton   LEI       2   MarcLEI           1051   6    16     2\n",
       "44       Harvey Barnes   LEI       2   HarvLEI            776   7    33     0\n",
       "45   Kelechi Iheanacho   LEI       2   KeleLEI            374   5    14     1\n",
       "46       Gabriel Jesus   MCI       2   GabrMCI            589  21    36     6\n",
       "47      Ilkay Gundogan   MCI       2   IlkaMCI           1242  10    33     5\n",
       "48       Jesse Lingard   MUN       2   JessMUN           1050  14    29     4\n",
       "49     Anthony Martial   MUN       2   AnthMUN           1040  20    33    10"
      ]
     },
     "execution_count": 106,
     "metadata": {},
     "output_type": "execute_result"
    }
   ],
   "source": [
    "EPL_assist_df\n"
   ]
  },
  {
   "cell_type": "code",
   "execution_count": 14,
   "metadata": {},
   "outputs": [],
   "source": [
    "Fox_goal_URL = 'https://www.foxsports.com/soccer/stats?competition=1&season=20180&category=STANDARD&pos=0&team=0&isOpp=0&sort=3&sortOrder=0&page=2'"
   ]
  },
  {
   "cell_type": "code",
   "execution_count": 15,
   "metadata": {},
   "outputs": [],
   "source": [
    "uClient = uReq(Fox_goal_URL)\n",
    "page_html = uClient.read()\n",
    "uClient.close()"
   ]
  },
  {
   "cell_type": "code",
   "execution_count": 16,
   "metadata": {},
   "outputs": [],
   "source": [
    "Fox_goal_page_soup = soup(page_html,\"html.parser\")\n",
    "\n"
   ]
  },
  {
   "cell_type": "code",
   "execution_count": 17,
   "metadata": {},
   "outputs": [
    {
     "name": "stdout",
     "output_type": "stream",
     "text": [
      "50\n"
     ]
    }
   ],
   "source": [
    "Fox_goal_Name_EPL = Fox_goal_page_soup.findAll('a',{\"class\":\"wisbb_fullPlayer\"})\n",
    "print(len(Fox_goal_Name_EPL))\n"
   ]
  },
  {
   "cell_type": "code",
   "execution_count": 18,
   "metadata": {},
   "outputs": [
    {
     "name": "stdout",
     "output_type": "stream",
     "text": [
      "['Andre Schurrle', 'Shane Duffy', 'Alvaro Morata', 'Ilkay Gundogan', 'Dele Alli', 'Christian Eriksen', 'Abdoulaye Doucoure', 'Andre Gray', 'Victor Camarasa', 'Sol Bamba', 'Callum Paterson', 'Mesut Ozil', 'Aaron Ramsey', 'Granit Xhaka', 'Demarai Gray', 'James Milner', 'Jesse Lingard', 'Pierre Hojbjerg', 'Erik Lamela', 'Michail Antonio', 'Ruben Loftus-Cheek', 'Jeffrey Schlupp', 'Andros Townsend', 'Bobby Reid', 'Johann Gudmundsson', 'Dwight McNeil', 'James Tarkowski', 'Sam Vokes', 'Mathias Jorgensen', 'Nathan Ake', 'Alex Iwobi', 'Laurent Koscielny', 'Aboubakar Kamara', 'Ross Barkley', \"N'Golo Kante\", 'Willian', 'Theo Walcott', 'Harry Maguire', 'Wes Morgan', 'Virgil van Dijk', 'Ciaran Clark', 'Nathan Redmond', 'Mark Noble', 'Willy Boly', 'Ivan Cavaleiro', 'Ruben Neves', 'Craig Cathcart', 'Jose Holebas', 'Josh Murphy', 'Stuart Armstrong']\n"
     ]
    }
   ],
   "source": [
    "Fox_goal_name = []\n",
    "for i in range(50):\n",
    "    get_Goal_playerName_Fox = Fox_goal_Name_EPL[i].span.text.split(', ')\n",
    "    #print(T_get_assist_playerName)\n",
    "    #a,b = T_get_assist_playerName.split(',')\n",
    "    #if len(b) == 0\n",
    "    if len(get_Goal_playerName_Fox) == 2:\n",
    "        a =get_Goal_playerName_Fox[1]\n",
    "        b = get_Goal_playerName_Fox[0]\n",
    "        c = a+' '+b\n",
    "    else:\n",
    "        b = get_Goal_playerName_Fox[0]\n",
    "        a = ''\n",
    "        c = b\n",
    "    Fox_goal_name.append(c)\n",
    "\n",
    "print(Fox_goal_name)"
   ]
  },
  {
   "cell_type": "code",
   "execution_count": 19,
   "metadata": {},
   "outputs": [
    {
     "data": {
      "text/plain": [
       "'6'"
      ]
     },
     "execution_count": 19,
     "metadata": {},
     "output_type": "execute_result"
    }
   ],
   "source": [
    "Fox_club_name = Fox_goal_page_soup.findAll('td',{\"class\":\"wisbb_priorityColumn wisbb_selected\"})\n",
    "Fox_club_name[0].text"
   ]
  },
  {
   "cell_type": "code",
   "execution_count": 20,
   "metadata": {},
   "outputs": [
    {
     "name": "stdout",
     "output_type": "stream",
     "text": [
      "['6', '5', '5', '5', '5', '5', '5', '5', '5', '4', '4', '4', '4', '4', '4', '4', '4', '4', '4', '4', '4', '4', '4', '4', '3', '3', '3', '3', '3', '3', '3', '3', '3', '3', '3', '3', '3', '3', '3', '3', '3', '3', '3', '3', '3', '3', '3', '3', '3', '3']\n"
     ]
    }
   ],
   "source": [
    "Fox_GoalScored_EPL =[]\n",
    "for i in range(50):\n",
    "    get_goals = Fox_club_name[i].text\n",
    "    Fox_GoalScored_EPL.append(get_goals)\n",
    "    \n",
    "\n",
    "print(Fox_GoalScored_EPL)"
   ]
  },
  {
   "cell_type": "code",
   "execution_count": 116,
   "metadata": {},
   "outputs": [
    {
     "name": "stdout",
     "output_type": "stream",
     "text": [
      "\n",
      "A\n",
      "\n"
     ]
    }
   ],
   "source": [
    "Fox_GoalScoredPlusAssist_EPL = Fox_goal_page_soup.findAll('tr',{\"class\":\"wisbb_fvStand\"})\n",
    "print(Fox_GoalScoredPlusAssist_EPL[0].contents[11].text)"
   ]
  },
  {
   "cell_type": "code",
   "execution_count": 117,
   "metadata": {},
   "outputs": [
    {
     "name": "stdout",
     "output_type": "stream",
     "text": [
      "['0', '1', '0', '2', '1', '10', '4', '2', '2', '1', '1', '2', '6', '1', '1', '4', '2', '1', '2', '3', '0', '1', '3', '2', '5', '4', '1', '0', '1', '0', '4', '0', '0', '4', '4', '6', '2', '0', '0', '1', '0', '3', '3', '0', '1', '2', '0', '6', '1', '1']\n"
     ]
    }
   ],
   "source": [
    "Fox_GoalScoredPlusAssist_EPL_List = []\n",
    "for i in range(1,51):\n",
    "    EPL_assists = Fox_GoalScoredPlusAssist_EPL[i].contents[11].text\n",
    "    Fox_GoalScoredPlusAssist_EPL_List.append(EPL_assists)\n",
    "    \n",
    "print(Fox_GoalScoredPlusAssist_EPL_List)"
   ]
  },
  {
   "cell_type": "code",
   "execution_count": 21,
   "metadata": {},
   "outputs": [
    {
     "data": {
      "text/plain": [
       "'FUL'"
      ]
     },
     "execution_count": 21,
     "metadata": {},
     "output_type": "execute_result"
    }
   ],
   "source": [
    "Fox_Club_goal_name = Fox_goal_page_soup.findAll('span',{\"class\":\"wisbb_tableAbbrevLink\"})\n",
    "Fox_Club_goal_name[0].text[1:4]"
   ]
  },
  {
   "cell_type": "code",
   "execution_count": 22,
   "metadata": {},
   "outputs": [
    {
     "name": "stdout",
     "output_type": "stream",
     "text": [
      "['FUL', 'BHA', 'CHE', 'MCI', 'TOT', 'TOT', 'WAT', 'WAT', 'CC\\n', 'CC\\n', 'CC\\n', 'ARS', 'ARS', 'ARS', 'LEI', 'LIV', 'MUN', 'SOU', 'TOT', 'WHU', 'CHE', 'CRY', 'CRY', 'CC\\n', 'BUR', 'BUR', 'BUR', 'BUR', 'HUD', 'BOU', 'ARS', 'ARS', 'FUL', 'CHE', 'CHE', 'CHE', 'EVE', 'LEI', 'LEI', 'LIV', 'NEW', 'SOU', 'WHU', 'WLV', 'WLV', 'WLV', 'WAT', 'WAT', 'CC\\n', 'SOU']\n"
     ]
    }
   ],
   "source": [
    "Fox_Club_goal_name_list = []\n",
    "for i in range(50):\n",
    "    get_name = Fox_Club_goal_name[i].text[1:4]\n",
    "    Fox_Club_goal_name_list.append(get_name)\n",
    "\n",
    "\n",
    "print(Fox_Club_goal_name_list)\n"
   ]
  },
  {
   "cell_type": "code",
   "execution_count": 23,
   "metadata": {},
   "outputs": [
    {
     "name": "stdout",
     "output_type": "stream",
     "text": [
      "['AndrFUL', 'ShanBHA', 'AlvaCHE', 'IlkaMCI', 'DeleTOT', 'ChriTOT', 'AbdoWAT', 'AndrWAT', 'VictCC\\n', 'Sol CC\\n', 'CallCC\\n', 'MesuARS', 'AaroARS', 'GranARS', 'DemaLEI', 'JameLIV', 'JessMUN', 'PierSOU', 'ErikTOT', 'MichWHU', 'RubeCHE', 'JeffCRY', 'AndrCRY', 'BobbCC\\n', 'JohaBUR', 'DwigBUR', 'JameBUR', 'Sam BUR', 'MathHUD', 'NathBOU', 'AlexARS', 'LaurARS', 'AbouFUL', 'RossCHE', \"N'GoCHE\", 'WillCHE', 'TheoEVE', 'HarrLEI', 'Wes LEI', 'VirgLIV', 'CiarNEW', 'NathSOU', 'MarkWHU', 'WillWLV', 'IvanWLV', 'RubeWLV', 'CraiWAT', 'JoseWAT', 'JoshCC\\n', 'StuaSOU']\n"
     ]
    }
   ],
   "source": [
    "Fox_goal_PID = []\n",
    "for i in range(50):\n",
    "    c = Fox_goal_name[i][0:4]+Fox_Club_goal_name_list[i]\n",
    "    Fox_goal_PID.append(c)\n",
    "\n",
    "\n",
    "    \n",
    "print(Fox_goal_PID)\n",
    "    "
   ]
  },
  {
   "cell_type": "code",
   "execution_count": 25,
   "metadata": {
    "scrolled": true
   },
   "outputs": [
    {
     "data": {
      "text/html": [
       "<div>\n",
       "<style scoped>\n",
       "    .dataframe tbody tr th:only-of-type {\n",
       "        vertical-align: middle;\n",
       "    }\n",
       "\n",
       "    .dataframe tbody tr th {\n",
       "        vertical-align: top;\n",
       "    }\n",
       "\n",
       "    .dataframe thead th {\n",
       "        text-align: right;\n",
       "    }\n",
       "</style>\n",
       "<table border=\"1\" class=\"dataframe\">\n",
       "  <thead>\n",
       "    <tr style=\"text-align: right;\">\n",
       "      <th></th>\n",
       "      <th>Player Name</th>\n",
       "      <th>Club</th>\n",
       "      <th>Goals</th>\n",
       "      <th>PlayerID</th>\n",
       "    </tr>\n",
       "  </thead>\n",
       "  <tbody>\n",
       "    <tr>\n",
       "      <th>0</th>\n",
       "      <td>Andre Schurrle</td>\n",
       "      <td>FUL</td>\n",
       "      <td>6</td>\n",
       "      <td>AndrFUL</td>\n",
       "    </tr>\n",
       "    <tr>\n",
       "      <th>1</th>\n",
       "      <td>Shane Duffy</td>\n",
       "      <td>BHA</td>\n",
       "      <td>5</td>\n",
       "      <td>ShanBHA</td>\n",
       "    </tr>\n",
       "    <tr>\n",
       "      <th>2</th>\n",
       "      <td>Alvaro Morata</td>\n",
       "      <td>CHE</td>\n",
       "      <td>5</td>\n",
       "      <td>AlvaCHE</td>\n",
       "    </tr>\n",
       "    <tr>\n",
       "      <th>3</th>\n",
       "      <td>Ilkay Gundogan</td>\n",
       "      <td>MCI</td>\n",
       "      <td>5</td>\n",
       "      <td>IlkaMCI</td>\n",
       "    </tr>\n",
       "    <tr>\n",
       "      <th>4</th>\n",
       "      <td>Dele Alli</td>\n",
       "      <td>TOT</td>\n",
       "      <td>5</td>\n",
       "      <td>DeleTOT</td>\n",
       "    </tr>\n",
       "  </tbody>\n",
       "</table>\n",
       "</div>"
      ],
      "text/plain": [
       "      Player Name Club Goals PlayerID\n",
       "0  Andre Schurrle  FUL     6  AndrFUL\n",
       "1     Shane Duffy  BHA     5  ShanBHA\n",
       "2   Alvaro Morata  CHE     5  AlvaCHE\n",
       "3  Ilkay Gundogan  MCI     5  IlkaMCI\n",
       "4       Dele Alli  TOT     5  DeleTOT"
      ]
     },
     "execution_count": 25,
     "metadata": {},
     "output_type": "execute_result"
    }
   ],
   "source": [
    "Fox_Goal_data = list(zip(Fox_goal_name,Fox_Club_goal_name_list,Fox_GoalScored_EPL,Fox_goal_PID))\n",
    "Fox_Goal_data_df = pd.DataFrame(data = Fox_Goal_data,columns = ['Player Name','Club','Goals','PlayerID'])\n",
    "Fox_Goal_data_df.head(10)\n",
    "Fox_Goal_data_df_copy = Fox_Goal_data_df\n",
    "Fox_Goal_data_df_copy.head()"
   ]
  },
  {
   "cell_type": "code",
   "execution_count": 121,
   "metadata": {},
   "outputs": [
    {
     "data": {
      "text/html": [
       "<div>\n",
       "<style scoped>\n",
       "    .dataframe tbody tr th:only-of-type {\n",
       "        vertical-align: middle;\n",
       "    }\n",
       "\n",
       "    .dataframe tbody tr th {\n",
       "        vertical-align: top;\n",
       "    }\n",
       "\n",
       "    .dataframe thead th {\n",
       "        text-align: right;\n",
       "    }\n",
       "</style>\n",
       "<table border=\"1\" class=\"dataframe\">\n",
       "  <thead>\n",
       "    <tr style=\"text-align: right;\">\n",
       "      <th></th>\n",
       "      <th>Player Name</th>\n",
       "      <th>Club</th>\n",
       "      <th>Assists</th>\n",
       "      <th>PlayerID</th>\n",
       "      <th>Minutes Played</th>\n",
       "      <th>SOG</th>\n",
       "      <th>Shots</th>\n",
       "      <th>Goals</th>\n",
       "    </tr>\n",
       "  </thead>\n",
       "  <tbody>\n",
       "    <tr>\n",
       "      <th>0</th>\n",
       "      <td>Gerard Deulofeu</td>\n",
       "      <td>WAT</td>\n",
       "      <td>4</td>\n",
       "      <td>GeraWAT</td>\n",
       "      <td>1590</td>\n",
       "      <td>15</td>\n",
       "      <td>43</td>\n",
       "      <td>7</td>\n",
       "    </tr>\n",
       "    <tr>\n",
       "      <th>1</th>\n",
       "      <td>Abdoulaye Doucoure</td>\n",
       "      <td>WAT</td>\n",
       "      <td>4</td>\n",
       "      <td>AbdoWAT</td>\n",
       "      <td>1712</td>\n",
       "      <td>15</td>\n",
       "      <td>42</td>\n",
       "      <td>5</td>\n",
       "    </tr>\n",
       "    <tr>\n",
       "      <th>2</th>\n",
       "      <td>Will Hughes</td>\n",
       "      <td>WAT</td>\n",
       "      <td>4</td>\n",
       "      <td>WillWAT</td>\n",
       "      <td>1213</td>\n",
       "      <td>6</td>\n",
       "      <td>18</td>\n",
       "      <td>2</td>\n",
       "    </tr>\n",
       "    <tr>\n",
       "      <th>3</th>\n",
       "      <td>Ricardo Pereira</td>\n",
       "      <td>LEI</td>\n",
       "      <td>4</td>\n",
       "      <td>RicaLEI</td>\n",
       "      <td>1890</td>\n",
       "      <td>10</td>\n",
       "      <td>25</td>\n",
       "      <td>2</td>\n",
       "    </tr>\n",
       "    <tr>\n",
       "      <th>4</th>\n",
       "      <td>David Brooks</td>\n",
       "      <td>BOU</td>\n",
       "      <td>4</td>\n",
       "      <td>DaviBOU</td>\n",
       "      <td>1365</td>\n",
       "      <td>20</td>\n",
       "      <td>38</td>\n",
       "      <td>6</td>\n",
       "    </tr>\n",
       "  </tbody>\n",
       "</table>\n",
       "</div>"
      ],
      "text/plain": [
       "          Player Name Club Assists PlayerID Minutes Played SOG Shots Goals\n",
       "0     Gerard Deulofeu  WAT       4  GeraWAT           1590  15    43     7\n",
       "1  Abdoulaye Doucoure  WAT       4  AbdoWAT           1712  15    42     5\n",
       "2         Will Hughes  WAT       4  WillWAT           1213   6    18     2\n",
       "3     Ricardo Pereira  LEI       4  RicaLEI           1890  10    25     2\n",
       "4        David Brooks  BOU       4  DaviBOU           1365  20    38     6"
      ]
     },
     "execution_count": 121,
     "metadata": {},
     "output_type": "execute_result"
    }
   ],
   "source": [
    "EPL_assist_df.head(10)\n",
    "EPL_assist_df_copy = EPL_assist_df\n",
    "EPL_assist_df_copy.head()"
   ]
  },
  {
   "cell_type": "code",
   "execution_count": 122,
   "metadata": {},
   "outputs": [
    {
     "name": "stdout",
     "output_type": "stream",
     "text": [
      "961\n"
     ]
    }
   ],
   "source": [
    "minutes_played_goal_fox_epl = Fox_goal_page_soup.findAll('tr',{\"class\":\"wisbb_fvStand\"})\n",
    "print(minutes_played_goal_fox_epl[1].contents[7].text)"
   ]
  },
  {
   "cell_type": "code",
   "execution_count": 123,
   "metadata": {
    "scrolled": true
   },
   "outputs": [
    {
     "name": "stdout",
     "output_type": "stream",
     "text": [
      "['961', '1558', '501', '1242', '1009', '1601', '1712', '376', '1453', '1755', '1570', '760', '703', '1409', '1298', '1030', '1050', '1517', '732', '1348', '448', '954', '1865', '761', '986', '1074', '1800', '432', '1440', '2062', '1276', '959', '537', '829', '1870', '1303', '1198', '1339', '1254', '2070', '372', '1882', '1242', '1818', '611', '1680', '1803', '1452', '1024', '1092']\n"
     ]
    }
   ],
   "source": [
    "minutes_played_goal_fox_epl_list = []\n",
    "for i in range(1,51):\n",
    "    get_min_played = minutes_played_goal_fox_epl[i].contents[7].text\n",
    "    minutes_played_goal_fox_epl_list.append(get_min_played)\n",
    "    \n",
    "print(minutes_played_goal_fox_epl_list)"
   ]
  },
  {
   "cell_type": "code",
   "execution_count": 124,
   "metadata": {},
   "outputs": [
    {
     "data": {
      "text/html": [
       "<div>\n",
       "<style scoped>\n",
       "    .dataframe tbody tr th:only-of-type {\n",
       "        vertical-align: middle;\n",
       "    }\n",
       "\n",
       "    .dataframe tbody tr th {\n",
       "        vertical-align: top;\n",
       "    }\n",
       "\n",
       "    .dataframe thead th {\n",
       "        text-align: right;\n",
       "    }\n",
       "</style>\n",
       "<table border=\"1\" class=\"dataframe\">\n",
       "  <thead>\n",
       "    <tr style=\"text-align: right;\">\n",
       "      <th></th>\n",
       "      <th>Player Name</th>\n",
       "      <th>Club</th>\n",
       "      <th>Goals</th>\n",
       "      <th>PlayerID</th>\n",
       "      <th>Minutes Played</th>\n",
       "      <th>SOG</th>\n",
       "      <th>Shots</th>\n",
       "      <th>Assists</th>\n",
       "    </tr>\n",
       "  </thead>\n",
       "  <tbody>\n",
       "    <tr>\n",
       "      <th>0</th>\n",
       "      <td>Andre Schurrle</td>\n",
       "      <td>FUL</td>\n",
       "      <td>6</td>\n",
       "      <td>AndrFUL</td>\n",
       "      <td>961</td>\n",
       "      <td>19</td>\n",
       "      <td>53</td>\n",
       "      <td>0</td>\n",
       "    </tr>\n",
       "    <tr>\n",
       "      <th>1</th>\n",
       "      <td>Shane Duffy</td>\n",
       "      <td>BHA</td>\n",
       "      <td>5</td>\n",
       "      <td>ShanBHA</td>\n",
       "      <td>1558</td>\n",
       "      <td>14</td>\n",
       "      <td>30</td>\n",
       "      <td>1</td>\n",
       "    </tr>\n",
       "    <tr>\n",
       "      <th>2</th>\n",
       "      <td>Alvaro Morata</td>\n",
       "      <td>CHE</td>\n",
       "      <td>5</td>\n",
       "      <td>AlvaCHE</td>\n",
       "      <td>501</td>\n",
       "      <td>16</td>\n",
       "      <td>35</td>\n",
       "      <td>0</td>\n",
       "    </tr>\n",
       "    <tr>\n",
       "      <th>3</th>\n",
       "      <td>Ilkay Gundogan</td>\n",
       "      <td>MCI</td>\n",
       "      <td>5</td>\n",
       "      <td>IlkaMCI</td>\n",
       "      <td>1242</td>\n",
       "      <td>10</td>\n",
       "      <td>33</td>\n",
       "      <td>2</td>\n",
       "    </tr>\n",
       "    <tr>\n",
       "      <th>4</th>\n",
       "      <td>Dele Alli</td>\n",
       "      <td>TOT</td>\n",
       "      <td>5</td>\n",
       "      <td>DeleTOT</td>\n",
       "      <td>1009</td>\n",
       "      <td>15</td>\n",
       "      <td>29</td>\n",
       "      <td>1</td>\n",
       "    </tr>\n",
       "  </tbody>\n",
       "</table>\n",
       "</div>"
      ],
      "text/plain": [
       "      Player Name Club Goals PlayerID Minutes Played SOG Shots Assists\n",
       "0  Andre Schurrle  FUL     6  AndrFUL            961  19    53       0\n",
       "1     Shane Duffy  BHA     5  ShanBHA           1558  14    30       1\n",
       "2   Alvaro Morata  CHE     5  AlvaCHE            501  16    35       0\n",
       "3  Ilkay Gundogan  MCI     5  IlkaMCI           1242  10    33       2\n",
       "4       Dele Alli  TOT     5  DeleTOT           1009  15    29       1"
      ]
     },
     "execution_count": 124,
     "metadata": {},
     "output_type": "execute_result"
    }
   ],
   "source": [
    "Fox_Goal_data_df['Minutes Played'] = minutes_played_goal_fox_epl_list\n",
    "Fox_Goal_data_df.head()"
   ]
  },
  {
   "cell_type": "code",
   "execution_count": 125,
   "metadata": {},
   "outputs": [
    {
     "name": "stdout",
     "output_type": "stream",
     "text": [
      "53\n"
     ]
    }
   ],
   "source": [
    "print(minutes_played_goal_fox_epl[1].contents[15].text)"
   ]
  },
  {
   "cell_type": "code",
   "execution_count": 126,
   "metadata": {},
   "outputs": [
    {
     "name": "stdout",
     "output_type": "stream",
     "text": [
      "['53', '30', '35', '33', '29', '58', '42', '25', '37', '22', '39', '8', '29', '24', '43', '21', '29', '44', '30', '47', '13', '26', '54', '22', '29', '26', '17', '21', '9', '17', '26', '5', '20', '36', '24', '57', '35', '26', '10', '26', '7', '54', '13', '15', '12', '62', '10', '16', '40', '28']\n"
     ]
    }
   ],
   "source": [
    "total_shots_fox_EPL_list = []\n",
    "for i in range(1,51):\n",
    "    get_shots = minutes_played_goal_fox_epl[i].contents[15].text\n",
    "    total_shots_fox_EPL_list.append(get_shots)\n",
    "    \n",
    "print(total_shots_fox_EPL_list)"
   ]
  },
  {
   "cell_type": "code",
   "execution_count": 127,
   "metadata": {},
   "outputs": [
    {
     "name": "stdout",
     "output_type": "stream",
     "text": [
      "['19', '14', '16', '10', '15', '25', '15', '14', '11', '7', '8', '5', '13', '10', '16', '6', '14', '19', '12', '15', '5', '10', '14', '7', '8', '8', '9', '7', '4', '6', '11', '4', '9', '6', '4', '21', '16', '11', '5', '7', '3', '14', '6', '5', '4', '13', '4', '6', '13', '13']\n"
     ]
    }
   ],
   "source": [
    "total_shots_target_fox_EPL_list = []\n",
    "for i in range(1,51):\n",
    "    get_shots_target = minutes_played_goal_fox_epl[i].contents[13].text\n",
    "    total_shots_target_fox_EPL_list.append(get_shots_target)\n",
    "\n",
    "    \n",
    "print(total_shots_target_fox_EPL_list)"
   ]
  },
  {
   "cell_type": "code",
   "execution_count": 128,
   "metadata": {},
   "outputs": [],
   "source": [
    "Fox_Goal_data_df['SOG'] = total_shots_target_fox_EPL_list\n"
   ]
  },
  {
   "cell_type": "code",
   "execution_count": 129,
   "metadata": {},
   "outputs": [],
   "source": [
    "Fox_Goal_data_df['Shots'] = total_shots_fox_EPL_list"
   ]
  },
  {
   "cell_type": "code",
   "execution_count": 130,
   "metadata": {},
   "outputs": [],
   "source": [
    "Fox_Goal_data_df['Assists'] = Fox_GoalScoredPlusAssist_EPL_List"
   ]
  },
  {
   "cell_type": "code",
   "execution_count": 131,
   "metadata": {
    "scrolled": true
   },
   "outputs": [
    {
     "data": {
      "text/html": [
       "<div>\n",
       "<style scoped>\n",
       "    .dataframe tbody tr th:only-of-type {\n",
       "        vertical-align: middle;\n",
       "    }\n",
       "\n",
       "    .dataframe tbody tr th {\n",
       "        vertical-align: top;\n",
       "    }\n",
       "\n",
       "    .dataframe thead th {\n",
       "        text-align: right;\n",
       "    }\n",
       "</style>\n",
       "<table border=\"1\" class=\"dataframe\">\n",
       "  <thead>\n",
       "    <tr style=\"text-align: right;\">\n",
       "      <th></th>\n",
       "      <th>Player Name</th>\n",
       "      <th>Club</th>\n",
       "      <th>Goals</th>\n",
       "      <th>PlayerID</th>\n",
       "      <th>Minutes Played</th>\n",
       "      <th>SOG</th>\n",
       "      <th>Shots</th>\n",
       "      <th>Assists</th>\n",
       "    </tr>\n",
       "  </thead>\n",
       "  <tbody>\n",
       "    <tr>\n",
       "      <th>0</th>\n",
       "      <td>Andre Schurrle</td>\n",
       "      <td>FUL</td>\n",
       "      <td>6</td>\n",
       "      <td>AndrFUL</td>\n",
       "      <td>961</td>\n",
       "      <td>19</td>\n",
       "      <td>53</td>\n",
       "      <td>0</td>\n",
       "    </tr>\n",
       "    <tr>\n",
       "      <th>1</th>\n",
       "      <td>Shane Duffy</td>\n",
       "      <td>BHA</td>\n",
       "      <td>5</td>\n",
       "      <td>ShanBHA</td>\n",
       "      <td>1558</td>\n",
       "      <td>14</td>\n",
       "      <td>30</td>\n",
       "      <td>1</td>\n",
       "    </tr>\n",
       "    <tr>\n",
       "      <th>2</th>\n",
       "      <td>Alvaro Morata</td>\n",
       "      <td>CHE</td>\n",
       "      <td>5</td>\n",
       "      <td>AlvaCHE</td>\n",
       "      <td>501</td>\n",
       "      <td>16</td>\n",
       "      <td>35</td>\n",
       "      <td>0</td>\n",
       "    </tr>\n",
       "    <tr>\n",
       "      <th>3</th>\n",
       "      <td>Ilkay Gundogan</td>\n",
       "      <td>MCI</td>\n",
       "      <td>5</td>\n",
       "      <td>IlkaMCI</td>\n",
       "      <td>1242</td>\n",
       "      <td>10</td>\n",
       "      <td>33</td>\n",
       "      <td>2</td>\n",
       "    </tr>\n",
       "    <tr>\n",
       "      <th>4</th>\n",
       "      <td>Dele Alli</td>\n",
       "      <td>TOT</td>\n",
       "      <td>5</td>\n",
       "      <td>DeleTOT</td>\n",
       "      <td>1009</td>\n",
       "      <td>15</td>\n",
       "      <td>29</td>\n",
       "      <td>1</td>\n",
       "    </tr>\n",
       "  </tbody>\n",
       "</table>\n",
       "</div>"
      ],
      "text/plain": [
       "      Player Name Club Goals PlayerID Minutes Played SOG Shots Assists\n",
       "0  Andre Schurrle  FUL     6  AndrFUL            961  19    53       0\n",
       "1     Shane Duffy  BHA     5  ShanBHA           1558  14    30       1\n",
       "2   Alvaro Morata  CHE     5  AlvaCHE            501  16    35       0\n",
       "3  Ilkay Gundogan  MCI     5  IlkaMCI           1242  10    33       2\n",
       "4       Dele Alli  TOT     5  DeleTOT           1009  15    29       1"
      ]
     },
     "execution_count": 131,
     "metadata": {},
     "output_type": "execute_result"
    }
   ],
   "source": [
    "Fox_Goal_data_df.head()"
   ]
  },
  {
   "cell_type": "code",
   "execution_count": 36,
   "metadata": {
    "scrolled": true
   },
   "outputs": [
    {
     "name": "stdout",
     "output_type": "stream",
     "text": [
      "1590\n"
     ]
    }
   ],
   "source": [
    "Minutes_played_SOG_S_Fox = EPL_assists_page_soup.findAll('tr',{\"class\":\"wisbb_fvStand\"})\n",
    "print(Minutes_played_SOG_S_Fox[1].contents[7].text)"
   ]
  },
  {
   "cell_type": "code",
   "execution_count": 132,
   "metadata": {},
   "outputs": [
    {
     "name": "stdout",
     "output_type": "stream",
     "text": [
      "['1590', '1712', '1213', '1890', '1365', '1870', '1881', '1900', '488', '1102', '1693', '895', '781', '443', '1890', '747', '1394', '594', '1193', '1602', '430', '1245', '1882', '1005', '1302', '194', '1348', '940', '1242', '1865', '1693', '1025', '1600', '1416', '567', '1639', '1963', '1153', '765', '760', '1800', '1663', '1198', '1051', '776', '374', '589', '1242', '1050', '1040']\n"
     ]
    }
   ],
   "source": [
    "MP_Fox_EPL_assists_list = []\n",
    "for i in range(1,51):\n",
    "    get_MP = Minutes_played_SOG_S_Fox[i].contents[7].text\n",
    "    MP_Fox_EPL_assists_list.append(get_MP)\n",
    "\n",
    "print(MP_Fox_EPL_assists_list)"
   ]
  },
  {
   "cell_type": "code",
   "execution_count": 133,
   "metadata": {},
   "outputs": [
    {
     "name": "stdout",
     "output_type": "stream",
     "text": [
      "['15', '15', '6', '10', '20', '19', '16', '8', '7', '20', '22', '8', '4', '14', '8', '19', '7', '1', '8', '8', '9', '4', '14', '1', '3', '0', '15', '25', '6', '14', '22', '2', '6', '1', '6', '24', '2', '8', '1', '5', '6', '4', '16', '6', '7', '5', '21', '10', '14', '20']\n"
     ]
    }
   ],
   "source": [
    "SOG_Fox_EPL_assists_list = []\n",
    "for i in range(1,51):\n",
    "    get_SOG = Minutes_played_SOG_S_Fox[i].contents[13].text\n",
    "    SOG_Fox_EPL_assists_list.append(get_SOG)\n",
    "    \n",
    "print(SOG_Fox_EPL_assists_list)"
   ]
  },
  {
   "cell_type": "code",
   "execution_count": 134,
   "metadata": {},
   "outputs": [
    {
     "name": "stdout",
     "output_type": "stream",
     "text": [
      "['43', '42', '18', '25', '38', '45', '35', '27', '22', '53', '55', '29', '5', '31', '18', '43', '27', '4', '18', '22', '19', '16', '54', '12', '7', '0', '47', '47', '13', '54', '63', '9', '24', '15', '18', '53', '18', '19', '3', '8', '27', '10', '35', '16', '33', '14', '36', '33', '29', '33']\n"
     ]
    }
   ],
   "source": [
    "S_Fox_EPL_assists_list = []\n",
    "for i in range(1,51):\n",
    "    get_S = Minutes_played_SOG_S_Fox[i].contents[15].text\n",
    "    S_Fox_EPL_assists_list.append(get_S)\n",
    "    \n",
    "print(S_Fox_EPL_assists_list)"
   ]
  },
  {
   "cell_type": "code",
   "execution_count": 135,
   "metadata": {},
   "outputs": [],
   "source": [
    "EPL_assist_df['Minutes Played'] = MP_Fox_EPL_assists_list"
   ]
  },
  {
   "cell_type": "code",
   "execution_count": 136,
   "metadata": {},
   "outputs": [],
   "source": [
    "EPL_assist_df['SOG'] = SOG_Fox_EPL_assists_list"
   ]
  },
  {
   "cell_type": "code",
   "execution_count": 137,
   "metadata": {},
   "outputs": [],
   "source": [
    "EPL_assist_df['Shots'] = S_Fox_EPL_assists_list"
   ]
  },
  {
   "cell_type": "code",
   "execution_count": 138,
   "metadata": {
    "scrolled": true
   },
   "outputs": [
    {
     "data": {
      "text/html": [
       "<div>\n",
       "<style scoped>\n",
       "    .dataframe tbody tr th:only-of-type {\n",
       "        vertical-align: middle;\n",
       "    }\n",
       "\n",
       "    .dataframe tbody tr th {\n",
       "        vertical-align: top;\n",
       "    }\n",
       "\n",
       "    .dataframe thead th {\n",
       "        text-align: right;\n",
       "    }\n",
       "</style>\n",
       "<table border=\"1\" class=\"dataframe\">\n",
       "  <thead>\n",
       "    <tr style=\"text-align: right;\">\n",
       "      <th></th>\n",
       "      <th>Player Name</th>\n",
       "      <th>Club</th>\n",
       "      <th>Assists</th>\n",
       "      <th>PlayerID</th>\n",
       "      <th>Minutes Played</th>\n",
       "      <th>SOG</th>\n",
       "      <th>Shots</th>\n",
       "      <th>Goals</th>\n",
       "    </tr>\n",
       "  </thead>\n",
       "  <tbody>\n",
       "    <tr>\n",
       "      <th>0</th>\n",
       "      <td>Gerard Deulofeu</td>\n",
       "      <td>WAT</td>\n",
       "      <td>4</td>\n",
       "      <td>GeraWAT</td>\n",
       "      <td>1590</td>\n",
       "      <td>15</td>\n",
       "      <td>43</td>\n",
       "      <td>7</td>\n",
       "    </tr>\n",
       "    <tr>\n",
       "      <th>1</th>\n",
       "      <td>Abdoulaye Doucoure</td>\n",
       "      <td>WAT</td>\n",
       "      <td>4</td>\n",
       "      <td>AbdoWAT</td>\n",
       "      <td>1712</td>\n",
       "      <td>15</td>\n",
       "      <td>42</td>\n",
       "      <td>5</td>\n",
       "    </tr>\n",
       "    <tr>\n",
       "      <th>2</th>\n",
       "      <td>Will Hughes</td>\n",
       "      <td>WAT</td>\n",
       "      <td>4</td>\n",
       "      <td>WillWAT</td>\n",
       "      <td>1213</td>\n",
       "      <td>6</td>\n",
       "      <td>18</td>\n",
       "      <td>2</td>\n",
       "    </tr>\n",
       "    <tr>\n",
       "      <th>3</th>\n",
       "      <td>Ricardo Pereira</td>\n",
       "      <td>LEI</td>\n",
       "      <td>4</td>\n",
       "      <td>RicaLEI</td>\n",
       "      <td>1890</td>\n",
       "      <td>10</td>\n",
       "      <td>25</td>\n",
       "      <td>2</td>\n",
       "    </tr>\n",
       "    <tr>\n",
       "      <th>4</th>\n",
       "      <td>David Brooks</td>\n",
       "      <td>BOU</td>\n",
       "      <td>4</td>\n",
       "      <td>DaviBOU</td>\n",
       "      <td>1365</td>\n",
       "      <td>20</td>\n",
       "      <td>38</td>\n",
       "      <td>6</td>\n",
       "    </tr>\n",
       "  </tbody>\n",
       "</table>\n",
       "</div>"
      ],
      "text/plain": [
       "          Player Name Club Assists PlayerID Minutes Played SOG Shots Goals\n",
       "0     Gerard Deulofeu  WAT       4  GeraWAT           1590  15    43     7\n",
       "1  Abdoulaye Doucoure  WAT       4  AbdoWAT           1712  15    42     5\n",
       "2         Will Hughes  WAT       4  WillWAT           1213   6    18     2\n",
       "3     Ricardo Pereira  LEI       4  RicaLEI           1890  10    25     2\n",
       "4        David Brooks  BOU       4  DaviBOU           1365  20    38     6"
      ]
     },
     "execution_count": 138,
     "metadata": {},
     "output_type": "execute_result"
    }
   ],
   "source": [
    "EPL_assist_df.head()"
   ]
  },
  {
   "cell_type": "code",
   "execution_count": 139,
   "metadata": {},
   "outputs": [
    {
     "data": {
      "text/html": [
       "<div>\n",
       "<style scoped>\n",
       "    .dataframe tbody tr th:only-of-type {\n",
       "        vertical-align: middle;\n",
       "    }\n",
       "\n",
       "    .dataframe tbody tr th {\n",
       "        vertical-align: top;\n",
       "    }\n",
       "\n",
       "    .dataframe thead th {\n",
       "        text-align: right;\n",
       "    }\n",
       "</style>\n",
       "<table border=\"1\" class=\"dataframe\">\n",
       "  <thead>\n",
       "    <tr style=\"text-align: right;\">\n",
       "      <th></th>\n",
       "      <th>Player Name</th>\n",
       "      <th>Club</th>\n",
       "      <th>Goals</th>\n",
       "      <th>PlayerID</th>\n",
       "      <th>Minutes Played</th>\n",
       "      <th>SOG</th>\n",
       "      <th>Shots</th>\n",
       "      <th>Assists</th>\n",
       "    </tr>\n",
       "  </thead>\n",
       "  <tbody>\n",
       "    <tr>\n",
       "      <th>0</th>\n",
       "      <td>Andre Schurrle</td>\n",
       "      <td>FUL</td>\n",
       "      <td>6</td>\n",
       "      <td>AndrFUL</td>\n",
       "      <td>961</td>\n",
       "      <td>19</td>\n",
       "      <td>53</td>\n",
       "      <td>0</td>\n",
       "    </tr>\n",
       "    <tr>\n",
       "      <th>1</th>\n",
       "      <td>Shane Duffy</td>\n",
       "      <td>BHA</td>\n",
       "      <td>5</td>\n",
       "      <td>ShanBHA</td>\n",
       "      <td>1558</td>\n",
       "      <td>14</td>\n",
       "      <td>30</td>\n",
       "      <td>1</td>\n",
       "    </tr>\n",
       "    <tr>\n",
       "      <th>2</th>\n",
       "      <td>Alvaro Morata</td>\n",
       "      <td>CHE</td>\n",
       "      <td>5</td>\n",
       "      <td>AlvaCHE</td>\n",
       "      <td>501</td>\n",
       "      <td>16</td>\n",
       "      <td>35</td>\n",
       "      <td>0</td>\n",
       "    </tr>\n",
       "    <tr>\n",
       "      <th>3</th>\n",
       "      <td>Ilkay Gundogan</td>\n",
       "      <td>MCI</td>\n",
       "      <td>5</td>\n",
       "      <td>IlkaMCI</td>\n",
       "      <td>1242</td>\n",
       "      <td>10</td>\n",
       "      <td>33</td>\n",
       "      <td>2</td>\n",
       "    </tr>\n",
       "    <tr>\n",
       "      <th>4</th>\n",
       "      <td>Dele Alli</td>\n",
       "      <td>TOT</td>\n",
       "      <td>5</td>\n",
       "      <td>DeleTOT</td>\n",
       "      <td>1009</td>\n",
       "      <td>15</td>\n",
       "      <td>29</td>\n",
       "      <td>1</td>\n",
       "    </tr>\n",
       "    <tr>\n",
       "      <th>5</th>\n",
       "      <td>Christian Eriksen</td>\n",
       "      <td>TOT</td>\n",
       "      <td>5</td>\n",
       "      <td>ChriTOT</td>\n",
       "      <td>1601</td>\n",
       "      <td>25</td>\n",
       "      <td>58</td>\n",
       "      <td>10</td>\n",
       "    </tr>\n",
       "    <tr>\n",
       "      <th>6</th>\n",
       "      <td>Abdoulaye Doucoure</td>\n",
       "      <td>WAT</td>\n",
       "      <td>5</td>\n",
       "      <td>AbdoWAT</td>\n",
       "      <td>1712</td>\n",
       "      <td>15</td>\n",
       "      <td>42</td>\n",
       "      <td>4</td>\n",
       "    </tr>\n",
       "    <tr>\n",
       "      <th>7</th>\n",
       "      <td>Andre Gray</td>\n",
       "      <td>WAT</td>\n",
       "      <td>5</td>\n",
       "      <td>AndrWAT</td>\n",
       "      <td>376</td>\n",
       "      <td>14</td>\n",
       "      <td>25</td>\n",
       "      <td>2</td>\n",
       "    </tr>\n",
       "    <tr>\n",
       "      <th>8</th>\n",
       "      <td>Victor Camarasa</td>\n",
       "      <td>CC\\n</td>\n",
       "      <td>5</td>\n",
       "      <td>VictCC\\n</td>\n",
       "      <td>1453</td>\n",
       "      <td>11</td>\n",
       "      <td>37</td>\n",
       "      <td>2</td>\n",
       "    </tr>\n",
       "    <tr>\n",
       "      <th>9</th>\n",
       "      <td>Sol Bamba</td>\n",
       "      <td>CC\\n</td>\n",
       "      <td>4</td>\n",
       "      <td>Sol CC\\n</td>\n",
       "      <td>1755</td>\n",
       "      <td>7</td>\n",
       "      <td>22</td>\n",
       "      <td>1</td>\n",
       "    </tr>\n",
       "  </tbody>\n",
       "</table>\n",
       "</div>"
      ],
      "text/plain": [
       "          Player Name  Club Goals  PlayerID Minutes Played SOG Shots Assists\n",
       "0      Andre Schurrle   FUL     6   AndrFUL            961  19    53       0\n",
       "1         Shane Duffy   BHA     5   ShanBHA           1558  14    30       1\n",
       "2       Alvaro Morata   CHE     5   AlvaCHE            501  16    35       0\n",
       "3      Ilkay Gundogan   MCI     5   IlkaMCI           1242  10    33       2\n",
       "4           Dele Alli   TOT     5   DeleTOT           1009  15    29       1\n",
       "5   Christian Eriksen   TOT     5   ChriTOT           1601  25    58      10\n",
       "6  Abdoulaye Doucoure   WAT     5   AbdoWAT           1712  15    42       4\n",
       "7          Andre Gray   WAT     5   AndrWAT            376  14    25       2\n",
       "8     Victor Camarasa  CC\\n     5  VictCC\\n           1453  11    37       2\n",
       "9           Sol Bamba  CC\\n     4  Sol CC\\n           1755   7    22       1"
      ]
     },
     "execution_count": 139,
     "metadata": {},
     "output_type": "execute_result"
    }
   ],
   "source": [
    "Fox_Goal_data_df_copy = Fox_Goal_data_df\n",
    "Fox_Goal_data_df_copy.head(10)"
   ]
  },
  {
   "cell_type": "code",
   "execution_count": 140,
   "metadata": {},
   "outputs": [
    {
     "data": {
      "text/html": [
       "<div>\n",
       "<style scoped>\n",
       "    .dataframe tbody tr th:only-of-type {\n",
       "        vertical-align: middle;\n",
       "    }\n",
       "\n",
       "    .dataframe tbody tr th {\n",
       "        vertical-align: top;\n",
       "    }\n",
       "\n",
       "    .dataframe thead th {\n",
       "        text-align: right;\n",
       "    }\n",
       "</style>\n",
       "<table border=\"1\" class=\"dataframe\">\n",
       "  <thead>\n",
       "    <tr style=\"text-align: right;\">\n",
       "      <th></th>\n",
       "      <th>Player Name</th>\n",
       "      <th>Club</th>\n",
       "      <th>Assists</th>\n",
       "      <th>PlayerID</th>\n",
       "      <th>Minutes Played</th>\n",
       "      <th>SOG</th>\n",
       "      <th>Shots</th>\n",
       "      <th>Goals</th>\n",
       "    </tr>\n",
       "  </thead>\n",
       "  <tbody>\n",
       "    <tr>\n",
       "      <th>0</th>\n",
       "      <td>Gerard Deulofeu</td>\n",
       "      <td>WAT</td>\n",
       "      <td>4</td>\n",
       "      <td>GeraWAT</td>\n",
       "      <td>1590</td>\n",
       "      <td>15</td>\n",
       "      <td>43</td>\n",
       "      <td>7</td>\n",
       "    </tr>\n",
       "    <tr>\n",
       "      <th>1</th>\n",
       "      <td>Abdoulaye Doucoure</td>\n",
       "      <td>WAT</td>\n",
       "      <td>4</td>\n",
       "      <td>AbdoWAT</td>\n",
       "      <td>1712</td>\n",
       "      <td>15</td>\n",
       "      <td>42</td>\n",
       "      <td>5</td>\n",
       "    </tr>\n",
       "    <tr>\n",
       "      <th>2</th>\n",
       "      <td>Will Hughes</td>\n",
       "      <td>WAT</td>\n",
       "      <td>4</td>\n",
       "      <td>WillWAT</td>\n",
       "      <td>1213</td>\n",
       "      <td>6</td>\n",
       "      <td>18</td>\n",
       "      <td>2</td>\n",
       "    </tr>\n",
       "    <tr>\n",
       "      <th>3</th>\n",
       "      <td>Ricardo Pereira</td>\n",
       "      <td>LEI</td>\n",
       "      <td>4</td>\n",
       "      <td>RicaLEI</td>\n",
       "      <td>1890</td>\n",
       "      <td>10</td>\n",
       "      <td>25</td>\n",
       "      <td>2</td>\n",
       "    </tr>\n",
       "    <tr>\n",
       "      <th>4</th>\n",
       "      <td>David Brooks</td>\n",
       "      <td>BOU</td>\n",
       "      <td>4</td>\n",
       "      <td>DaviBOU</td>\n",
       "      <td>1365</td>\n",
       "      <td>20</td>\n",
       "      <td>38</td>\n",
       "      <td>6</td>\n",
       "    </tr>\n",
       "    <tr>\n",
       "      <th>5</th>\n",
       "      <td>Felipe Anderson</td>\n",
       "      <td>WHU</td>\n",
       "      <td>4</td>\n",
       "      <td>FeliWHU</td>\n",
       "      <td>1870</td>\n",
       "      <td>19</td>\n",
       "      <td>45</td>\n",
       "      <td>8</td>\n",
       "    </tr>\n",
       "    <tr>\n",
       "      <th>6</th>\n",
       "      <td>Matt Doherty</td>\n",
       "      <td>WLV</td>\n",
       "      <td>4</td>\n",
       "      <td>MattWLV</td>\n",
       "      <td>1881</td>\n",
       "      <td>16</td>\n",
       "      <td>35</td>\n",
       "      <td>3</td>\n",
       "    </tr>\n",
       "    <tr>\n",
       "      <th>7</th>\n",
       "      <td>Lucas Digne</td>\n",
       "      <td>EVE</td>\n",
       "      <td>4</td>\n",
       "      <td>LucaEVE</td>\n",
       "      <td>1900</td>\n",
       "      <td>8</td>\n",
       "      <td>27</td>\n",
       "      <td>3</td>\n",
       "    </tr>\n",
       "    <tr>\n",
       "      <th>8</th>\n",
       "      <td>Luciano Vietto</td>\n",
       "      <td>FUL</td>\n",
       "      <td>4</td>\n",
       "      <td>LuciFUL</td>\n",
       "      <td>488</td>\n",
       "      <td>7</td>\n",
       "      <td>22</td>\n",
       "      <td>1</td>\n",
       "    </tr>\n",
       "    <tr>\n",
       "      <th>9</th>\n",
       "      <td>Steve Mounie</td>\n",
       "      <td>HUD</td>\n",
       "      <td>3</td>\n",
       "      <td>StevHUD</td>\n",
       "      <td>1102</td>\n",
       "      <td>20</td>\n",
       "      <td>53</td>\n",
       "      <td>2</td>\n",
       "    </tr>\n",
       "  </tbody>\n",
       "</table>\n",
       "</div>"
      ],
      "text/plain": [
       "          Player Name Club Assists PlayerID Minutes Played SOG Shots Goals\n",
       "0     Gerard Deulofeu  WAT       4  GeraWAT           1590  15    43     7\n",
       "1  Abdoulaye Doucoure  WAT       4  AbdoWAT           1712  15    42     5\n",
       "2         Will Hughes  WAT       4  WillWAT           1213   6    18     2\n",
       "3     Ricardo Pereira  LEI       4  RicaLEI           1890  10    25     2\n",
       "4        David Brooks  BOU       4  DaviBOU           1365  20    38     6\n",
       "5     Felipe Anderson  WHU       4  FeliWHU           1870  19    45     8\n",
       "6        Matt Doherty  WLV       4  MattWLV           1881  16    35     3\n",
       "7         Lucas Digne  EVE       4  LucaEVE           1900   8    27     3\n",
       "8      Luciano Vietto  FUL       4  LuciFUL            488   7    22     1\n",
       "9        Steve Mounie  HUD       3  StevHUD           1102  20    53     2"
      ]
     },
     "execution_count": 140,
     "metadata": {},
     "output_type": "execute_result"
    }
   ],
   "source": [
    "EPL_assist_df_copy = EPL_assist_df\n",
    "EPL_assist_df_copy.head(10)"
   ]
  },
  {
   "cell_type": "code",
   "execution_count": 142,
   "metadata": {},
   "outputs": [
    {
     "name": "stderr",
     "output_type": "stream",
     "text": [
      "C:\\Users\\91997\\Anaconda3\\lib\\site-packages\\pandas\\core\\frame.py:6211: FutureWarning: Sorting because non-concatenation axis is not aligned. A future version\n",
      "of pandas will change to not sort by default.\n",
      "\n",
      "To accept the future behavior, pass 'sort=False'.\n",
      "\n",
      "To retain the current behavior and silence the warning, pass 'sort=True'.\n",
      "\n",
      "  sort=sort)\n"
     ]
    }
   ],
   "source": [
    "appendStuff = EPL_assist_df_copy.append(Fox_Goal_data_df_copy,ignore_index = True)"
   ]
  },
  {
   "cell_type": "code",
   "execution_count": 144,
   "metadata": {},
   "outputs": [
    {
     "data": {
      "text/html": [
       "<div>\n",
       "<style scoped>\n",
       "    .dataframe tbody tr th:only-of-type {\n",
       "        vertical-align: middle;\n",
       "    }\n",
       "\n",
       "    .dataframe tbody tr th {\n",
       "        vertical-align: top;\n",
       "    }\n",
       "\n",
       "    .dataframe thead th {\n",
       "        text-align: right;\n",
       "    }\n",
       "</style>\n",
       "<table border=\"1\" class=\"dataframe\">\n",
       "  <thead>\n",
       "    <tr style=\"text-align: right;\">\n",
       "      <th></th>\n",
       "      <th>Assists</th>\n",
       "      <th>Club</th>\n",
       "      <th>Goals</th>\n",
       "      <th>Minutes Played</th>\n",
       "      <th>Player Name</th>\n",
       "      <th>PlayerID</th>\n",
       "      <th>SOG</th>\n",
       "      <th>Shots</th>\n",
       "    </tr>\n",
       "  </thead>\n",
       "  <tbody>\n",
       "    <tr>\n",
       "      <th>0</th>\n",
       "      <td>4</td>\n",
       "      <td>WAT</td>\n",
       "      <td>7</td>\n",
       "      <td>1590</td>\n",
       "      <td>Gerard Deulofeu</td>\n",
       "      <td>GeraWAT</td>\n",
       "      <td>15</td>\n",
       "      <td>43</td>\n",
       "    </tr>\n",
       "    <tr>\n",
       "      <th>1</th>\n",
       "      <td>4</td>\n",
       "      <td>WAT</td>\n",
       "      <td>5</td>\n",
       "      <td>1712</td>\n",
       "      <td>Abdoulaye Doucoure</td>\n",
       "      <td>AbdoWAT</td>\n",
       "      <td>15</td>\n",
       "      <td>42</td>\n",
       "    </tr>\n",
       "    <tr>\n",
       "      <th>2</th>\n",
       "      <td>4</td>\n",
       "      <td>WAT</td>\n",
       "      <td>2</td>\n",
       "      <td>1213</td>\n",
       "      <td>Will Hughes</td>\n",
       "      <td>WillWAT</td>\n",
       "      <td>6</td>\n",
       "      <td>18</td>\n",
       "    </tr>\n",
       "    <tr>\n",
       "      <th>3</th>\n",
       "      <td>4</td>\n",
       "      <td>LEI</td>\n",
       "      <td>2</td>\n",
       "      <td>1890</td>\n",
       "      <td>Ricardo Pereira</td>\n",
       "      <td>RicaLEI</td>\n",
       "      <td>10</td>\n",
       "      <td>25</td>\n",
       "    </tr>\n",
       "    <tr>\n",
       "      <th>4</th>\n",
       "      <td>4</td>\n",
       "      <td>BOU</td>\n",
       "      <td>6</td>\n",
       "      <td>1365</td>\n",
       "      <td>David Brooks</td>\n",
       "      <td>DaviBOU</td>\n",
       "      <td>20</td>\n",
       "      <td>38</td>\n",
       "    </tr>\n",
       "  </tbody>\n",
       "</table>\n",
       "</div>"
      ],
      "text/plain": [
       "  Assists Club Goals Minutes Played         Player Name PlayerID SOG Shots\n",
       "0       4  WAT     7           1590     Gerard Deulofeu  GeraWAT  15    43\n",
       "1       4  WAT     5           1712  Abdoulaye Doucoure  AbdoWAT  15    42\n",
       "2       4  WAT     2           1213         Will Hughes  WillWAT   6    18\n",
       "3       4  LEI     2           1890     Ricardo Pereira  RicaLEI  10    25\n",
       "4       4  BOU     6           1365        David Brooks  DaviBOU  20    38"
      ]
     },
     "execution_count": 144,
     "metadata": {},
     "output_type": "execute_result"
    }
   ],
   "source": [
    "appendStuff.head()"
   ]
  },
  {
   "cell_type": "code",
   "execution_count": 150,
   "metadata": {},
   "outputs": [
    {
     "data": {
      "text/plain": [
       "(100, 8)"
      ]
     },
     "execution_count": 150,
     "metadata": {},
     "output_type": "execute_result"
    }
   ],
   "source": [
    "appendStuff = appendStuff[['Player Name','PlayerID','Club','Goals','Assists','Minutes Played','SOG','Shots']]\n",
    "appendStuff.shape"
   ]
  },
  {
   "cell_type": "code",
   "execution_count": 149,
   "metadata": {},
   "outputs": [],
   "source": [
    "appendStuff.to_csv('EPL_data_new2.csv')"
   ]
  }
 ],
 "metadata": {
  "kernelspec": {
   "display_name": "Python 3",
   "language": "python",
   "name": "python3"
  },
  "language_info": {
   "codemirror_mode": {
    "name": "ipython",
    "version": 3
   },
   "file_extension": ".py",
   "mimetype": "text/x-python",
   "name": "python",
   "nbconvert_exporter": "python",
   "pygments_lexer": "ipython3",
   "version": "3.7.1"
  }
 },
 "nbformat": 4,
 "nbformat_minor": 2
}
